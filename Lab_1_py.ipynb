{
  "nbformat": 4,
  "nbformat_minor": 0,
  "metadata": {
    "colab": {
      "provenance": [],
      "authorship_tag": "ABX9TyMgSwmulYHGXdaCSfYf8N1c",
      "include_colab_link": true
    },
    "kernelspec": {
      "name": "python3",
      "display_name": "Python 3"
    },
    "language_info": {
      "name": "python"
    }
  },
  "cells": [
    {
      "cell_type": "markdown",
      "metadata": {
        "id": "view-in-github",
        "colab_type": "text"
      },
      "source": [
        "<a href=\"https://colab.research.google.com/github/amar-emad/newcoding/blob/main/Lab_1_py.ipynb\" target=\"_parent\"><img src=\"https://colab.research.google.com/assets/colab-badge.svg\" alt=\"Open In Colab\"/></a>"
      ]
    },
    {
      "cell_type": "markdown",
      "source": [
        "**lab 1**"
      ],
      "metadata": {
        "id": "nVaF0CGXeHWR"
      }
    },
    {
      "cell_type": "code",
      "execution_count": null,
      "metadata": {
        "id": "QCn4U8ZddSjN",
        "colab": {
          "base_uri": "https://localhost:8080/"
        },
        "outputId": "ff794553-2df1-405f-9e85-0036a99a9b8d"
      },
      "outputs": [
        {
          "output_type": "stream",
          "name": "stdout",
          "text": [
            "num1+num2= 7\n",
            "num3-num1 2\n",
            "num1*num2+num3 17\n",
            "num1*num2+num3 27\n",
            "num3/num1 1.6666666666666667\n",
            "num3//num1 1\n",
            "num3%num1 2\n"
          ]
        }
      ],
      "source": [
        "num1,num2,num3 =3,4,5\n",
        "print('num1+num2=',num1+num2)\n",
        "print('num3-num1',num3-num1)\n",
        "print('num1*num2+num3',num1*num2+num3)\n",
        "print('num1*num2+num3',num1*(num2+num3))\n",
        "print('num3/num1',num3/num1)\n",
        "print('num3//num1',num3//num1)\n",
        "print('num3%num1',num3%num1)"
      ]
    },
    {
      "cell_type": "code",
      "source": [
        "num1,num2,num3 =3.0,4.0,5.0\n",
        "print('num1+num2=',num1+num2)\n",
        "print('num3-num1',num3-num1)\n",
        "print('num1*num2+num3',num1*num2+num3)\n",
        "print('num1*num2+num3',num1*(num2+num3))\n",
        "print('num3/num1',num3/num1)\n",
        "print('num3//num1',num3//num1)\n",
        "print('num3%num1',num3%num1)"
      ],
      "metadata": {
        "colab": {
          "base_uri": "https://localhost:8080/"
        },
        "id": "0Gr_YofeZt0q",
        "outputId": "e35f20d8-fd92-4f87-f78a-2d11a8370a6d"
      },
      "execution_count": null,
      "outputs": [
        {
          "output_type": "stream",
          "name": "stdout",
          "text": [
            "num1+num2= 7.0\n",
            "num3-num1 2.0\n",
            "num1*num2+num3 17.0\n",
            "num1*num2+num3 27.0\n",
            "num3/num1 1.6666666666666667\n",
            "num3//num1 1.0\n",
            "num3%num1 2.0\n"
          ]
        }
      ]
    },
    {
      "cell_type": "code",
      "source": [
        "x,y,z,g=1,2,3,4\n",
        "print('x+y*z/g',x+y*z/g)\n",
        "print('y**z',y**z)"
      ],
      "metadata": {
        "colab": {
          "base_uri": "https://localhost:8080/"
        },
        "id": "rgNUwEJPaWeJ",
        "outputId": "186e6dfd-dddf-4e62-dcac-4e248adc9d83"
      },
      "execution_count": null,
      "outputs": [
        {
          "output_type": "stream",
          "name": "stdout",
          "text": [
            "x+y*z/g 2.5\n",
            "y**z 8\n"
          ]
        }
      ]
    },
    {
      "cell_type": "code",
      "source": [
        "str_a ='python '\n",
        "str_b ='is a '\n",
        "str_c =' times fun language'\n",
        "num = 1000\n",
        "str_ab =str_a + str_b +str(num) +str_c\n",
        "str_a10=str_a*10\n",
        "print(str_ab)\n",
        "print(str_a10)\n"
      ],
      "metadata": {
        "colab": {
          "base_uri": "https://localhost:8080/"
        },
        "id": "HEuYcKwcbi5z",
        "outputId": "9ef7c438-4fa8-4842-e734-38565f82979b"
      },
      "execution_count": null,
      "outputs": [
        {
          "output_type": "stream",
          "name": "stdout",
          "text": [
            "python is a 1000 times fun language\n",
            "python python python python python python python python python python \n"
          ]
        }
      ]
    },
    {
      "cell_type": "code",
      "source": [
        "num_1,num_2,num_3,num_4 = -5, 3.2, 5.7, 625\n",
        "print(abs(num_1))\n",
        "print(round(num_2))\n",
        "print(round(num_3))\n",
        "print(num_4**0.5)"
      ],
      "metadata": {
        "colab": {
          "base_uri": "https://localhost:8080/"
        },
        "id": "OSH8gws9eGhZ",
        "outputId": "f9b12b76-f356-403e-d109-aa7b53616575"
      },
      "execution_count": null,
      "outputs": [
        {
          "output_type": "stream",
          "name": "stdout",
          "text": [
            "5\n",
            "3\n",
            "6\n",
            "25.0\n"
          ]
        }
      ]
    },
    {
      "cell_type": "code",
      "source": [
        "num1=float(input('Enter your first number'))\n",
        "num2=float(input('Enter your second number'))\n",
        "print('result :',num1*num2)"
      ],
      "metadata": {
        "colab": {
          "base_uri": "https://localhost:8080/"
        },
        "id": "C6hbdSYSfmwJ",
        "outputId": "362a33de-d558-47dc-e32f-9a7b3336da43"
      },
      "execution_count": null,
      "outputs": [
        {
          "output_type": "stream",
          "name": "stdout",
          "text": [
            "Enter your first number5\n",
            "Enter your second number6\n",
            "result : 30.0\n"
          ]
        }
      ]
    },
    {
      "cell_type": "markdown",
      "source": [
        "Questions on control flow\n"
      ],
      "metadata": {
        "id": "8JcbPbbsgWuA"
      }
    },
    {
      "cell_type": "code",
      "source": [
        "num = int(input('Enter your number : '))\n",
        "if num % 2 == 0:\n",
        "  print('even')\n",
        "else :\n",
        "  print('odd')\n"
      ],
      "metadata": {
        "id": "HoReaoZKgOFi",
        "colab": {
          "base_uri": "https://localhost:8080/"
        },
        "outputId": "d1ec6e11-44fa-458c-feed-e2f16feeed0c"
      },
      "execution_count": 5,
      "outputs": [
        {
          "output_type": "stream",
          "name": "stdout",
          "text": [
            "Enter your number : 8\n",
            "even\n"
          ]
        }
      ]
    },
    {
      "cell_type": "code",
      "source": [
        "exam_score = int(input('Enter your score from 0 to 100 : ' ))\n",
        "if exam_score >=50 :\n",
        "  print('passed')\n",
        "else :\n",
        "\n",
        "  print(\"failed\")"
      ],
      "metadata": {
        "colab": {
          "base_uri": "https://localhost:8080/"
        },
        "id": "lNZMK1-LDl8j",
        "outputId": "5a417f1f-6b3c-4a2c-cf6c-2f68a41c3cdf"
      },
      "execution_count": 7,
      "outputs": [
        {
          "output_type": "stream",
          "name": "stdout",
          "text": [
            "Enter your score from 0 to 100 : 40\n",
            "failed\n"
          ]
        }
      ]
    },
    {
      "cell_type": "code",
      "source": [
        "num1= int(input('Enter first number : '))\n",
        "num2= int(input('Enter second number : '))\n",
        "num3= int(input('Enter third number : '))\n",
        "if num1 >= num2 and num1 >= num3 :\n",
        "  print(\"num1 largest number\")\n",
        "elif num2 >= num1 and num2 >= num3:\n",
        "  print(\"num2 largest number\")\n",
        "else :\n",
        "  print(\"num3 largest number\")"
      ],
      "metadata": {
        "colab": {
          "base_uri": "https://localhost:8080/"
        },
        "id": "2ECh8sPfIoxt",
        "outputId": "886cc3aa-c2ef-49f2-abb7-f3dff165fd2a"
      },
      "execution_count": 10,
      "outputs": [
        {
          "output_type": "stream",
          "name": "stdout",
          "text": [
            "Enter first number : 4\n",
            "Enter second number : 6\n",
            "Enter third number : 3\n",
            "num2 largest number\n"
          ]
        }
      ]
    },
    {
      "cell_type": "code",
      "source": [
        "for i in range(1,11) :\n",
        "  print(i)\n",
        ""
      ],
      "metadata": {
        "colab": {
          "base_uri": "https://localhost:8080/"
        },
        "id": "-aebb6HmKEmM",
        "outputId": "5eef02e8-ba49-48f3-92cc-92d95d67b8fb"
      },
      "execution_count": 11,
      "outputs": [
        {
          "output_type": "stream",
          "name": "stdout",
          "text": [
            "1\n",
            "2\n",
            "3\n",
            "4\n",
            "5\n",
            "6\n",
            "7\n",
            "8\n",
            "9\n",
            "10\n"
          ]
        }
      ]
    },
    {
      "cell_type": "code",
      "source": [
        "score = int(input('enter score : '))\n",
        "if 90 <= score <= 100 :\n",
        "  print('A')\n",
        "elif 80 <= score <= 100 :\n",
        "  print('B')\n",
        "elif 70 <= score <= 100 :\n",
        "  print('C')\n",
        "elif 60 <= score <= 100 :\n",
        "  print('D')\n",
        "else :\n",
        "  print('F')"
      ],
      "metadata": {
        "colab": {
          "base_uri": "https://localhost:8080/"
        },
        "id": "7JwXioWoKTl0",
        "outputId": "0f5d5a94-2126-46bb-ec7b-a27ecd696aac"
      },
      "execution_count": 14,
      "outputs": [
        {
          "output_type": "stream",
          "name": "stdout",
          "text": [
            "enter score : 90\n",
            "A\n"
          ]
        }
      ]
    },
    {
      "cell_type": "code",
      "source": [
        "numb = int(input('enter the number : '))\n",
        "for i in range(1,11) :\n",
        "  print(f\"{numb} x {i} = {numb*i}\")"
      ],
      "metadata": {
        "colab": {
          "base_uri": "https://localhost:8080/"
        },
        "id": "xsDR14ybLfg8",
        "outputId": "ffb2fbb3-5d5b-4e2d-ad54-70e3878a1b77"
      },
      "execution_count": 16,
      "outputs": [
        {
          "output_type": "stream",
          "name": "stdout",
          "text": [
            "enter the number : 6\n",
            "6 x 1 = 6\n",
            "6 x 2 = 12\n",
            "6 x 3 = 18\n",
            "6 x 4 = 24\n",
            "6 x 5 = 30\n",
            "6 x 6 = 36\n",
            "6 x 7 = 42\n",
            "6 x 8 = 48\n",
            "6 x 9 = 54\n",
            "6 x 10 = 60\n"
          ]
        }
      ]
    },
    {
      "cell_type": "code",
      "source": [
        "SumOfNumbers = 0\n",
        "for i in range(1,51) :\n",
        "  if i % 2 ==0 :\n",
        "    SumOfNumbers +=1\n",
        "    print('sum of numbers :' , SumOfNumbers)\n"
      ],
      "metadata": {
        "colab": {
          "base_uri": "https://localhost:8080/"
        },
        "id": "nA_pfGJUNmIt",
        "outputId": "4b4d23b3-c5ba-4870-bc96-1eac32382b7a"
      },
      "execution_count": 18,
      "outputs": [
        {
          "output_type": "stream",
          "name": "stdout",
          "text": [
            "sum of numbers : 1\n",
            "sum of numbers : 2\n",
            "sum of numbers : 3\n",
            "sum of numbers : 4\n",
            "sum of numbers : 5\n",
            "sum of numbers : 6\n",
            "sum of numbers : 7\n",
            "sum of numbers : 8\n",
            "sum of numbers : 9\n",
            "sum of numbers : 10\n",
            "sum of numbers : 11\n",
            "sum of numbers : 12\n",
            "sum of numbers : 13\n",
            "sum of numbers : 14\n",
            "sum of numbers : 15\n",
            "sum of numbers : 16\n",
            "sum of numbers : 17\n",
            "sum of numbers : 18\n",
            "sum of numbers : 19\n",
            "sum of numbers : 20\n",
            "sum of numbers : 21\n",
            "sum of numbers : 22\n",
            "sum of numbers : 23\n",
            "sum of numbers : 24\n",
            "sum of numbers : 25\n"
          ]
        }
      ]
    },
    {
      "cell_type": "code",
      "source": [
        "numbers = int(input('enter the number : '))\n",
        "factorial = 1\n",
        "i =1\n",
        "while i<=numbers:\n",
        "  factorial*=i\n",
        "  i+=1\n",
        "print('factorial is ',factorial)"
      ],
      "metadata": {
        "colab": {
          "base_uri": "https://localhost:8080/"
        },
        "id": "xRcpI54LOZ3c",
        "outputId": "b1c5990b-ec01-458f-8e86-42b04fc42bbd"
      },
      "execution_count": 22,
      "outputs": [
        {
          "output_type": "stream",
          "name": "stdout",
          "text": [
            "enter the number : 8\n",
            "factorial is  40320\n"
          ]
        }
      ]
    }
  ]
}