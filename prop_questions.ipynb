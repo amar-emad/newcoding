{
  "nbformat": 4,
  "nbformat_minor": 0,
  "metadata": {
    "colab": {
      "provenance": [],
      "authorship_tag": "ABX9TyOheBLun3vHppq1+TNsPbYp",
      "include_colab_link": true
    },
    "kernelspec": {
      "name": "python3",
      "display_name": "Python 3"
    },
    "language_info": {
      "name": "python"
    }
  },
  "cells": [
    {
      "cell_type": "markdown",
      "metadata": {
        "id": "view-in-github",
        "colab_type": "text"
      },
      "source": [
        "<a href=\"https://colab.research.google.com/github/amar-emad/newcoding/blob/main/prop_questions.ipynb\" target=\"_parent\"><img src=\"https://colab.research.google.com/assets/colab-badge.svg\" alt=\"Open In Colab\"/></a>"
      ]
    },
    {
      "cell_type": "code",
      "execution_count": null,
      "metadata": {
        "id": "q7ULVyQ0JmUy"
      },
      "outputs": [],
      "source": [
        "import numpy as np\n",
        "ages = [18,21,20,19,22,23,20,21,22,19]\n",
        "ManualMean = sum(ages)/len(ages)\n",
        "print('Manual mean : ' ,ManualMean)\n",
        "mean = np.mean(ages)\n",
        "print('Numpy mean : ' ,mean)"
      ]
    },
    {
      "cell_type": "code",
      "source": [
        "import numpy as np\n",
        "import random\n",
        "list =[random.randint(10,50) for i in range(15)]\n",
        "print(list)\n",
        "#___________________________________________\n",
        "\n",
        "n = len(list)\n",
        "if n%2 == 0:\n",
        "    median1 = list[n//2]\n",
        "    median2 = list[n//2 - 1]\n",
        "    median = (median1 + median2)/2\n",
        "else:\n",
        "    median = list[n//2]\n",
        "print(median)\n",
        "#--------------------------------------------\n",
        "numpysMedian = np.median(list)\n",
        "print(numpysMedian)\n",
        "#--------------------------------------------\n",
        "minimum= min(list)\n",
        "maximum= max(list)\n",
        "data_range = maximum -minimum\n",
        "print(minimum)\n",
        "print(maximum)\n",
        "print(data_range)\n",
        "min= np.min(list)\n",
        "max= np.max(list)\n",
        "numpyrange=max-min\n",
        "print(min)\n",
        "print(max)\n",
        "print(numpyrange)\n",
        "#--------------------------------------------\n",
        "import statistics\n",
        "data = [5,7,3,7,9,10,15,7]\n",
        "variance = statistics.variance(data)\n",
        "standard_deviation = statistics.stdev(data)\n",
        "print(variance)\n",
        "print(standard_deviation)\n",
        "#--------------------------------------------"
      ],
      "metadata": {
        "colab": {
          "base_uri": "https://localhost:8080/"
        },
        "id": "Tki8GozvLL_s",
        "outputId": "16ebb921-70ff-4de2-e25f-91327620a66c"
      },
      "execution_count": 5,
      "outputs": [
        {
          "output_type": "stream",
          "name": "stdout",
          "text": [
            "[16, 34, 10, 36, 32, 26, 24, 27, 37, 34, 35, 16, 26, 20, 10]\n",
            "27\n",
            "26.0\n",
            "10\n",
            "37\n",
            "27\n",
            "10\n",
            "37\n",
            "27\n",
            "12.982142857142858\n",
            "3.6030740843261686\n"
          ]
        }
      ]
    },
    {
      "cell_type": "code",
      "source": [
        "q1 = np.percentile(data,25)\n",
        "q2 = np.percentile(data,50)\n",
        "q3 = np.percentile(data,75)\n",
        "print(q1)\n",
        "print(q2)\n",
        "print(q3)\n",
        "#--------------------------------------------\n",
        "iqr = q3 - q1\n",
        "print(iqr)\n",
        "#--------------------------------------------\n",
        "#"
      ],
      "metadata": {
        "colab": {
          "base_uri": "https://localhost:8080/"
        },
        "id": "Ip3Wtt79NqRN",
        "outputId": "1d15c0ba-15ef-4bbc-875d-4778f413375b"
      },
      "execution_count": 6,
      "outputs": [
        {
          "output_type": "stream",
          "name": "stdout",
          "text": [
            "6.5\n",
            "7.0\n",
            "9.25\n",
            "2.75\n"
          ]
        }
      ]
    },
    {
      "cell_type": "code",
      "source": [
        "import math\n",
        "def z_score_normalization(data):\n",
        "    mean = sum(data) / len(data)\n",
        "    variance = sum((x - mean) ** 2 for x in data) / len(data)\n",
        "    std_dev = math.sqrt(variance)\n",
        "    z_scores = [(x - mean) / std_dev for x in data]\n",
        "    return z_scores\n",
        "data = [10, 20, 15, 30, 25]\n",
        "z_scores = z_score_normalization(data)\n",
        "print(\"Original data:\", data)\n",
        "print(\"Z-scores:\", z_scores)\n"
      ],
      "metadata": {
        "colab": {
          "base_uri": "https://localhost:8080/"
        },
        "id": "lHZSJvb2R08k",
        "outputId": "f5ab5c63-5d7f-4807-9dc8-ba661651e5b9"
      },
      "execution_count": 7,
      "outputs": [
        {
          "output_type": "stream",
          "name": "stdout",
          "text": [
            "Original data: [10, 20, 15, 30, 25]\n",
            "Z-scores: [-1.414213562373095, 0.0, -0.7071067811865475, 1.414213562373095, 0.7071067811865475]\n"
          ]
        }
      ]
    },
    {
      "cell_type": "code",
      "source": [
        "def z_score_normalization(data):\n",
        "    mean = sum(data) / len(data)\n",
        "    variance = sum((x - mean) ** 2 for x in data) / len(data)\n",
        "    std_dev = math.sqrt(variance)\n",
        "    z_scores = [(x - mean) / std_dev for x in data]\n",
        "    return z_scores\n",
        "data = [10, 20, 15, 30, 25]\n",
        "z_scores = z_score_normalization(data)\n",
        "print(\"Original data:\", data)\n",
        "print(\"Z-scores:\", z_scores)"
      ],
      "metadata": {
        "colab": {
          "base_uri": "https://localhost:8080/"
        },
        "id": "XynfZ6arSXVz",
        "outputId": "d11b85e6-dc99-4a40-837d-262f3aff6647"
      },
      "execution_count": 8,
      "outputs": [
        {
          "output_type": "stream",
          "name": "stdout",
          "text": [
            "Original data: [10, 20, 15, 30, 25]\n",
            "Z-scores: [-1.414213562373095, 0.0, -0.7071067811865475, 1.414213562373095, 0.7071067811865475]\n"
          ]
        }
      ]
    }
  ]
}