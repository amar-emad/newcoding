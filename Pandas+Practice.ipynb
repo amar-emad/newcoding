{
  "cells": [
    {
      "cell_type": "markdown",
      "metadata": {
        "id": "view-in-github",
        "colab_type": "text"
      },
      "source": [
        "<a href=\"https://colab.research.google.com/github/amar-emad/newcoding/blob/main/Pandas%2BPractice.ipynb\" target=\"_parent\"><img src=\"https://colab.research.google.com/assets/colab-badge.svg\" alt=\"Open In Colab\"/></a>"
      ]
    },
    {
      "cell_type": "markdown",
      "metadata": {
        "collapsed": true,
        "jupyter": {
          "outputs_hidden": true
        },
        "id": "79MOw7jj9IKG"
      },
      "source": [
        "# Part 1"
      ]
    },
    {
      "cell_type": "markdown",
      "metadata": {
        "id": "nvAtudwE9IKH"
      },
      "source": [
        "The file \"Purchase_Data.csv\" contains purchase data at a Chinese supermarket for various products.  Read this csv into a dataframe called df_data and use the head() method to check that you have read in the data correctly. Make sure you import pandas."
      ]
    },
    {
      "cell_type": "code",
      "execution_count": 1,
      "metadata": {
        "jupyter": {
          "outputs_hidden": false
        },
        "colab": {
          "base_uri": "https://localhost:8080/"
        },
        "id": "PMwOhvKg9IKI",
        "outputId": "86953227-e11e-4cb9-b6bd-ef9aaf033aec"
      },
      "outputs": [
        {
          "output_type": "stream",
          "name": "stdout",
          "text": [
            "Mounted at /content/drive\n",
            "CSV file loaded successfully! Here are the first few rows:\n",
            "   invoice_number   invoice_time store_id  product_id  category_id  num_item  \\\n",
            "0    2.020000e+11  7/15/15 10:45     G816     7000300       210101       1.0   \n",
            "1    2.020000e+11  7/15/15 12:16     G816     7070884        70203       1.0   \n",
            "2    2.020000e+11  7/15/15 12:16     G816     7070884        70203       1.0   \n",
            "3    2.020000e+11  7/15/15 12:16     G816     7070891        70401       1.0   \n",
            "4    2.020000e+11  7/15/15 12:16     G816     7090363        70401       1.0   \n",
            "\n",
            "   price  \n",
            "0    2.0  \n",
            "1    2.0  \n",
            "2    2.0  \n",
            "3    6.0  \n",
            "4    6.0  \n"
          ]
        }
      ],
      "source": [
        "#Write your code here\n",
        "# Step 1: Mount Google Drive\n",
        "from google.colab import drive\n",
        "drive.mount('/content/drive')\n",
        "\n",
        "# Step 2: Import pandas\n",
        "import pandas as pd\n",
        "import numpy as np\n",
        "\n",
        "file_path = '/content/drive/MyDrive/Data/Purchase_Data.csv'\n",
        "df = pd.read_csv(file_path)\n",
        "\n",
        "\n",
        "print(\"CSV file loaded successfully! Here are the first few rows:\")\n",
        "print(df.head())"
      ]
    },
    {
      "cell_type": "markdown",
      "metadata": {
        "id": "nXX2BO7k9IKI"
      },
      "source": [
        "Use the dtypes attribute to view how each column is stored"
      ]
    },
    {
      "cell_type": "code",
      "execution_count": null,
      "metadata": {
        "jupyter": {
          "outputs_hidden": false
        },
        "id": "gCuvghu_9IKJ"
      },
      "outputs": [],
      "source": [
        "#Write your code here\n",
        "print (df.dtypes)"
      ]
    },
    {
      "cell_type": "markdown",
      "metadata": {
        "id": "YKSzEKPI9IKJ"
      },
      "source": [
        "Slice the first two columns using .loc and store the result in a variable called result_1."
      ]
    },
    {
      "cell_type": "code",
      "execution_count": 2,
      "metadata": {
        "jupyter": {
          "outputs_hidden": false
        },
        "colab": {
          "base_uri": "https://localhost:8080/"
        },
        "id": "3NLX4G4C9IKJ",
        "outputId": "22cebf9a-3f07-47e8-8589-c0cd80da9d69"
      },
      "outputs": [
        {
          "output_type": "stream",
          "name": "stdout",
          "text": [
            "      invoice_number   invoice_time\n",
            "0       2.020000e+11  7/15/15 10:45\n",
            "1       2.020000e+11  7/15/15 12:16\n",
            "2       2.020000e+11  7/15/15 12:16\n",
            "3       2.020000e+11  7/15/15 12:16\n",
            "4       2.020000e+11  7/15/15 12:16\n",
            "...              ...            ...\n",
            "5377    2.020000e+11   9/5/15 23:07\n",
            "5378    2.020000e+11   9/5/15 23:23\n",
            "5379    2.020000e+11   9/5/15 23:24\n",
            "5380    2.020000e+11   9/5/15 23:32\n",
            "5381    2.020000e+11   9/5/15 23:38\n",
            "\n",
            "[5382 rows x 2 columns]\n"
          ]
        }
      ],
      "source": [
        "#Write you code here\n",
        "result_1 = df.loc[:,df.columns[:2]]\n",
        "print(result_1)"
      ]
    },
    {
      "cell_type": "markdown",
      "metadata": {
        "id": "NLcW8e_J9IKJ"
      },
      "source": [
        "Slice the first two rows using .loc and store the result in a variable called result_2."
      ]
    },
    {
      "cell_type": "code",
      "execution_count": 3,
      "metadata": {
        "jupyter": {
          "outputs_hidden": false
        },
        "colab": {
          "base_uri": "https://localhost:8080/"
        },
        "id": "pdE6qXdr9IKJ",
        "outputId": "b2449ddf-6715-4ca1-d870-d0aa65fe7c0d"
      },
      "outputs": [
        {
          "output_type": "stream",
          "name": "stdout",
          "text": [
            "   invoice_number   invoice_time store_id  product_id  category_id  num_item  \\\n",
            "0    2.020000e+11  7/15/15 10:45     G816     7000300       210101       1.0   \n",
            "1    2.020000e+11  7/15/15 12:16     G816     7070884        70203       1.0   \n",
            "\n",
            "   price  \n",
            "0    2.0  \n",
            "1    2.0  \n"
          ]
        }
      ],
      "source": [
        "#Write you code here\n",
        "result_2=df.loc[:1, :]\n",
        "print(result_2)"
      ]
    },
    {
      "cell_type": "markdown",
      "metadata": {
        "id": "YA5QBjs09IKK"
      },
      "source": [
        "Slice the first four rows and the first five columns and store the result in a variable called result_3."
      ]
    },
    {
      "cell_type": "code",
      "execution_count": 4,
      "metadata": {
        "jupyter": {
          "outputs_hidden": false
        },
        "colab": {
          "base_uri": "https://localhost:8080/"
        },
        "id": "MmF2lIH69IKK",
        "outputId": "68f65a0f-b51f-4bd5-c85c-2cc90ac86de6"
      },
      "outputs": [
        {
          "output_type": "stream",
          "name": "stdout",
          "text": [
            "   invoice_number   invoice_time store_id  product_id  category_id\n",
            "0    2.020000e+11  7/15/15 10:45     G816     7000300       210101\n",
            "1    2.020000e+11  7/15/15 12:16     G816     7070884        70203\n",
            "2    2.020000e+11  7/15/15 12:16     G816     7070884        70203\n",
            "3    2.020000e+11  7/15/15 12:16     G816     7070891        70401\n"
          ]
        }
      ],
      "source": [
        "#Write your code here\n",
        "result_3 = df.loc[:3, df.columns[:5]]\n",
        "print(result_3)"
      ]
    },
    {
      "cell_type": "markdown",
      "metadata": {
        "id": "GaQK3pFl9IKK"
      },
      "source": [
        "Slice rows 0,4,6 and columns invoice time and price and store the result in variable called result_4."
      ]
    },
    {
      "cell_type": "code",
      "execution_count": 28,
      "metadata": {
        "jupyter": {
          "outputs_hidden": false
        },
        "colab": {
          "base_uri": "https://localhost:8080/"
        },
        "id": "x73OwF609IKK",
        "outputId": "50da4e44-7ce9-42b3-ffd0-48dc9523f93f"
      },
      "outputs": [
        {
          "output_type": "stream",
          "name": "stdout",
          "text": [
            "    invoice_time  price\n",
            "0  7/15/15 10:45    2.0\n",
            "4  7/15/15 12:16    6.0\n",
            "6  7/15/15 15:28    2.0\n"
          ]
        }
      ],
      "source": [
        "#Write your code here\n",
        "result_4 = df.loc[[0, 4, 6], [\"invoice_time\", \"price\"]]\n",
        "print(result_4)"
      ]
    },
    {
      "cell_type": "markdown",
      "metadata": {
        "id": "6LUuPW0R9IKK"
      },
      "source": [
        "Store the number rows in a variable called num_rows."
      ]
    },
    {
      "cell_type": "code",
      "execution_count": 8,
      "metadata": {
        "jupyter": {
          "outputs_hidden": false
        },
        "colab": {
          "base_uri": "https://localhost:8080/"
        },
        "id": "KTO-VDTL9IKK",
        "outputId": "e847df43-5da4-45aa-b79b-e5327a1f6e61"
      },
      "outputs": [
        {
          "output_type": "stream",
          "name": "stdout",
          "text": [
            "5382\n"
          ]
        }
      ],
      "source": [
        "numbers_rows = df.shape[0]\n",
        "print(numbers_rows)\n"
      ]
    },
    {
      "cell_type": "markdown",
      "metadata": {
        "id": "dN9j9N5B9IKK"
      },
      "source": [
        "Print out the last row of the data to dataframe. **Hint:** use the variable num_rows from the previous exercise."
      ]
    },
    {
      "cell_type": "code",
      "execution_count": 9,
      "metadata": {
        "jupyter": {
          "outputs_hidden": false
        },
        "colab": {
          "base_uri": "https://localhost:8080/"
        },
        "id": "o-UvU1R59IKK",
        "outputId": "57ffc641-95b8-4bfe-837f-2df817d4d476"
      },
      "outputs": [
        {
          "output_type": "stream",
          "name": "stdout",
          "text": [
            "invoice_number    202000000000.0\n",
            "invoice_time        9/5/15 23:38\n",
            "store_id                    G619\n",
            "product_id              23030206\n",
            "category_id               210101\n",
            "num_item                     1.0\n",
            "price                        2.0\n",
            "Name: 5381, dtype: object\n"
          ]
        }
      ],
      "source": [
        "numbers_rows = df.shape[0]\n",
        "last_row = df.loc[numbers_rows - 1, :]\n",
        "print(last_row)"
      ]
    },
    {
      "cell_type": "markdown",
      "metadata": {
        "id": "03mxzhCM9IKL"
      },
      "source": [
        "# Part 2"
      ]
    },
    {
      "cell_type": "markdown",
      "metadata": {
        "id": "aJZRK0_69IKL"
      },
      "source": [
        "Compute the average and max price charged.  Store the results in variables called avg_price and max_price"
      ]
    },
    {
      "cell_type": "code",
      "execution_count": 10,
      "metadata": {
        "jupyter": {
          "outputs_hidden": false
        },
        "colab": {
          "base_uri": "https://localhost:8080/"
        },
        "id": "YqwdfUEg9IKL",
        "outputId": "62e48bc8-82dd-45b9-8970-150f6842c911"
      },
      "outputs": [
        {
          "output_type": "stream",
          "name": "stdout",
          "text": [
            "Average Price: 3.1920522110741363\n",
            "Max Price: 6.01\n"
          ]
        }
      ],
      "source": [
        "#Write your code here\n",
        "avg_price = df[\"price\"].mean()\n",
        "max_price = df[\"price\"].max()\n",
        "print(\"Average Price:\", avg_price)\n",
        "print(\"Max Price:\", max_price)"
      ]
    },
    {
      "cell_type": "markdown",
      "metadata": {
        "id": "xfsBlanE9IKL"
      },
      "source": [
        "Compute the average price and average number of items purchased with only a single call to the mean() method. Store these averages in avg_price and avg_num_items."
      ]
    },
    {
      "cell_type": "code",
      "execution_count": 12,
      "metadata": {
        "jupyter": {
          "outputs_hidden": false
        },
        "colab": {
          "base_uri": "https://localhost:8080/"
        },
        "id": "nYhfcdeU9IKL",
        "outputId": "0de43d93-023a-4531-e1dc-50e65b84b8cc"
      },
      "outputs": [
        {
          "output_type": "stream",
          "name": "stdout",
          "text": [
            "Average Price: 3.1920522110741363\n",
            "Average Number of Items: 1.2983091787439613\n"
          ]
        }
      ],
      "source": [
        "#Write you code here\n",
        "averages = df[[\"price\", \"num_item\"]].mean()\n",
        "avg_price = averages[\"price\"]\n",
        "avg_num_items = averages[\"num_item\"]\n",
        "print(\"Average Price:\", avg_price)\n",
        "print(\"Average Number of Items:\", avg_num_items)"
      ]
    },
    {
      "cell_type": "markdown",
      "metadata": {
        "id": "m4G5yWr69IKL"
      },
      "source": [
        "Create a column called \"total\", which is the product of the price and num_item columns."
      ]
    },
    {
      "cell_type": "code",
      "execution_count": 14,
      "metadata": {
        "jupyter": {
          "outputs_hidden": false
        },
        "colab": {
          "base_uri": "https://localhost:8080/"
        },
        "id": "7-mseKOR9IKL",
        "outputId": "3b5c71dc-fd38-4f3b-c731-2d9937140fcc"
      },
      "outputs": [
        {
          "output_type": "stream",
          "name": "stdout",
          "text": [
            "   invoice_number   invoice_time store_id  product_id  category_id  num_item  \\\n",
            "0    2.020000e+11  7/15/15 10:45     G816     7000300       210101       1.0   \n",
            "1    2.020000e+11  7/15/15 12:16     G816     7070884        70203       1.0   \n",
            "2    2.020000e+11  7/15/15 12:16     G816     7070884        70203       1.0   \n",
            "3    2.020000e+11  7/15/15 12:16     G816     7070891        70401       1.0   \n",
            "4    2.020000e+11  7/15/15 12:16     G816     7090363        70401       1.0   \n",
            "\n",
            "   price  total  \n",
            "0    2.0    2.0  \n",
            "1    2.0    2.0  \n",
            "2    2.0    2.0  \n",
            "3    6.0    6.0  \n",
            "4    6.0    6.0  \n"
          ]
        }
      ],
      "source": [
        "#Write your code here\n",
        "df[\"total\"] = df[\"price\"] * df[\"num_item\"]\n",
        "print(df.head())"
      ]
    },
    {
      "cell_type": "markdown",
      "metadata": {
        "id": "xNzoiheM9IKL"
      },
      "source": [
        "What is the avgerage price of the three most expensive purchases?"
      ]
    },
    {
      "cell_type": "code",
      "execution_count": 15,
      "metadata": {
        "jupyter": {
          "outputs_hidden": false
        },
        "colab": {
          "base_uri": "https://localhost:8080/"
        },
        "id": "kIpPdACh9IKL",
        "outputId": "47bab739-0231-4360-ef95-267510a50ddb"
      },
      "outputs": [
        {
          "output_type": "stream",
          "name": "stdout",
          "text": [
            "Average Price of Top 3 Expensive Purchases: 6.003333333333333\n"
          ]
        }
      ],
      "source": [
        "#Write your code here\n",
        "avg_top3_price = df[\"price\"].nlargest(3).mean()\n",
        "print(\"Average Price of Top 3 Expensive Purchases:\", avg_top3_price)"
      ]
    },
    {
      "cell_type": "markdown",
      "metadata": {
        "id": "4ZaBfDwf9IKL"
      },
      "source": [
        "How many different products are there?"
      ]
    },
    {
      "cell_type": "code",
      "execution_count": 17,
      "metadata": {
        "jupyter": {
          "outputs_hidden": false
        },
        "colab": {
          "base_uri": "https://localhost:8080/"
        },
        "id": "eXx2RxEh9IKL",
        "outputId": "9d6176ff-49b6-4239-8a26-20558a4e4e4a"
      },
      "outputs": [
        {
          "output_type": "stream",
          "name": "stdout",
          "text": [
            "Number of different products: 53\n"
          ]
        }
      ],
      "source": [
        "#Write your code here\n",
        "num_products = df[\"product_id\"].nunique()\n",
        "print(\"Number of different products:\", num_products)"
      ]
    },
    {
      "cell_type": "markdown",
      "metadata": {
        "id": "TQig_qMr9IKL"
      },
      "source": [
        "Find the difference between the mean and median of the column total.  Use the describe() method and then index the dataframe it returns."
      ]
    },
    {
      "cell_type": "code",
      "execution_count": 19,
      "metadata": {
        "jupyter": {
          "outputs_hidden": false
        },
        "colab": {
          "base_uri": "https://localhost:8080/"
        },
        "id": "0cc7qpuV9IKL",
        "outputId": "b29fbf50-5b72-449e-c0c2-6eb6dbb4c8f6"
      },
      "outputs": [
        {
          "output_type": "stream",
          "name": "stdout",
          "text": [
            "Mean of total: 3.931807878112784\n",
            "Median of total: 3.0\n",
            "Difference (Mean - Median): 0.9318078781127839\n"
          ]
        }
      ],
      "source": [
        "#Write your code here\n",
        "df[\"total\"] = df[\"price\"] * df[\"num_item\"]\n",
        "stats = df[\"total\"].describe()\n",
        "mean_total = stats[\"mean\"]\n",
        "median_total = stats[\"50%\"]\n",
        "difference = mean_total - median_total\n",
        "print(\"Mean of total:\", mean_total)\n",
        "print(\"Median of total:\", median_total)\n",
        "print(\"Difference (Mean - Median):\", difference)"
      ]
    },
    {
      "cell_type": "markdown",
      "metadata": {
        "id": "YcZLQEJE9IKL"
      },
      "source": [
        "Use the drop() method to delete the column total from the dataframe df_data."
      ]
    },
    {
      "cell_type": "code",
      "execution_count": 23,
      "metadata": {
        "jupyter": {
          "outputs_hidden": false
        },
        "colab": {
          "base_uri": "https://localhost:8080/"
        },
        "id": "2jjaEd_S9IKL",
        "outputId": "b0df911f-7e5f-4f50-feaa-6665db20ab72"
      },
      "outputs": [
        {
          "output_type": "stream",
          "name": "stdout",
          "text": [
            "   invoice_number   invoice_time store_id  product_id  category_id  num_item  \\\n",
            "0    2.020000e+11  7/15/15 10:45     G816     7000300       210101       1.0   \n",
            "1    2.020000e+11  7/15/15 12:16     G816     7070884        70203       1.0   \n",
            "2    2.020000e+11  7/15/15 12:16     G816     7070884        70203       1.0   \n",
            "3    2.020000e+11  7/15/15 12:16     G816     7070891        70401       1.0   \n",
            "4    2.020000e+11  7/15/15 12:16     G816     7090363        70401       1.0   \n",
            "\n",
            "   price  \n",
            "0    2.0  \n",
            "1    2.0  \n",
            "2    2.0  \n",
            "3    6.0  \n",
            "4    6.0  \n"
          ]
        }
      ],
      "source": [
        "#Write your code here\n",
        "df[\"total\"] = df[\"price\"] * df[\"num_item\"]\n",
        "df_data = df.drop(\"total\", axis=1)\n",
        "print(df_data.head())"
      ]
    },
    {
      "cell_type": "markdown",
      "metadata": {
        "id": "HliPC4Pb9IKL"
      },
      "source": [
        "Let's dig a little deeper into the data set and answer some basic question."
      ]
    },
    {
      "cell_type": "code",
      "execution_count": 24,
      "metadata": {
        "jupyter": {
          "outputs_hidden": false
        },
        "id": "lMxWkmEI9IKM"
      },
      "outputs": [],
      "source": [
        "#Write your code here\n"
      ]
    },
    {
      "cell_type": "markdown",
      "metadata": {
        "id": "__m7DHje9IKM"
      },
      "source": [
        "First, covert the column invoice time to a datetime column. Print out the new column types to make sure this was done correctly"
      ]
    },
    {
      "cell_type": "code",
      "execution_count": 30,
      "metadata": {
        "jupyter": {
          "outputs_hidden": false
        },
        "colab": {
          "base_uri": "https://localhost:8080/"
        },
        "id": "ofoq1_UF9IKM",
        "outputId": "63ea8caf-f722-439f-c977-bdc6acae8346"
      },
      "outputs": [
        {
          "output_type": "stream",
          "name": "stdout",
          "text": [
            "invoice_number    float64\n",
            "invoice_time       object\n",
            "store_id           object\n",
            "product_id          int64\n",
            "category_id         int64\n",
            "num_item          float64\n",
            "price             float64\n",
            "dtype: object\n"
          ]
        },
        {
          "output_type": "stream",
          "name": "stderr",
          "text": [
            "/tmp/ipython-input-2500446522.py:2: UserWarning: Could not infer format, so each element will be parsed individually, falling back to `dateutil`. To ensure parsing is consistent and as-expected, please specify a format.\n",
            "  df[\"invoice_time\"] = pd.to_datetime(df_data[\"invoice_time\"])\n"
          ]
        }
      ],
      "source": [
        "#Write your code here\n",
        "df[\"invoice_time\"] = pd.to_datetime(df_data[\"invoice_time\"])\n",
        "print(df_data.dtypes)"
      ]
    },
    {
      "cell_type": "markdown",
      "metadata": {
        "id": "Mnbo3NZJ9IKM"
      },
      "source": [
        "Next, let's create columns called \"DOW\" and \"Month\", which store the corresponding weekday and month of the invoice respectively.  Print the head of the dataframe to make sure this was done correctly."
      ]
    },
    {
      "cell_type": "code",
      "execution_count": 35,
      "metadata": {
        "jupyter": {
          "outputs_hidden": false
        },
        "colab": {
          "base_uri": "https://localhost:8080/"
        },
        "id": "rmykLAkY9IKM",
        "outputId": "c40f9e97-1297-4d72-fa61-df09c3b5a95c"
      },
      "outputs": [
        {
          "output_type": "stream",
          "name": "stderr",
          "text": [
            "/tmp/ipython-input-178733440.py:2: UserWarning: Could not infer format, so each element will be parsed individually, falling back to `dateutil`. To ensure parsing is consistent and as-expected, please specify a format.\n",
            "  df[\"invoice_time\"] = pd.to_datetime(df_data[\"invoice_time\"])\n"
          ]
        },
        {
          "output_type": "stream",
          "name": "stdout",
          "text": [
            "   invoice_number        invoice_time store_id  product_id  category_id  \\\n",
            "0    2.020000e+11 2015-07-15 10:45:00     G816     7000300       210101   \n",
            "1    2.020000e+11 2015-07-15 12:16:00     G816     7070884        70203   \n",
            "2    2.020000e+11 2015-07-15 12:16:00     G816     7070884        70203   \n",
            "3    2.020000e+11 2015-07-15 12:16:00     G816     7070891        70401   \n",
            "4    2.020000e+11 2015-07-15 12:16:00     G816     7090363        70401   \n",
            "\n",
            "   num_item  price  total        DOW Month  \n",
            "0       1.0    2.0    2.0  Wednesday  July  \n",
            "1       1.0    2.0    2.0  Wednesday  July  \n",
            "2       1.0    2.0    2.0  Wednesday  July  \n",
            "3       1.0    6.0    6.0  Wednesday  July  \n",
            "4       1.0    6.0    6.0  Wednesday  July  \n"
          ]
        }
      ],
      "source": [
        "#Write your code here\n",
        "df[\"invoice_time\"] = pd.to_datetime(df_data[\"invoice_time\"])\n",
        "df[\"DOW\"] = df[\"invoice_time\"].dt.day_name()\n",
        "df[\"Month\"] = df[\"invoice_time\"].dt.month_name()\n",
        "print(df.head())"
      ]
    },
    {
      "cell_type": "markdown",
      "metadata": {
        "id": "lsNEpyGO9IKN"
      },
      "source": [
        "Create a variable called num_purchases_wed, which stores the number of purchases made on Wednesday?  You should use value_counts and then index the series it return."
      ]
    },
    {
      "cell_type": "code",
      "execution_count": 37,
      "metadata": {
        "jupyter": {
          "outputs_hidden": false
        },
        "colab": {
          "base_uri": "https://localhost:8080/"
        },
        "id": "48X2J5Xr9IKW",
        "outputId": "07208c10-cffd-4d1a-e2cd-17d1212607e2"
      },
      "outputs": [
        {
          "output_type": "stream",
          "name": "stdout",
          "text": [
            "Number of purchases on Wednesday: 959\n"
          ]
        }
      ],
      "source": [
        "#Write your code here\n",
        "df[\"invoice_time\"] = pd.to_datetime(df[\"invoice_time\"])\n",
        "df[\"DOW\"] = df[\"invoice_time\"].dt.day_name()\n",
        "dow_counts = df[\"DOW\"].value_counts()\n",
        "num_purchases_wed = dow_counts[\"Wednesday\"]\n",
        "print(\"Number of purchases on Wednesday:\", num_purchases_wed)"
      ]
    },
    {
      "cell_type": "markdown",
      "metadata": {
        "id": "yv_v0ufS9IKW"
      },
      "source": [
        "# Part 3"
      ]
    },
    {
      "cell_type": "markdown",
      "metadata": {
        "id": "kpMV4eKn9IKW"
      },
      "source": [
        "In this set of practice exercises, we will be working with a demographic data regarding the passengers aboard the Titanic.  Read in the data frame and use the head() method to check that it was read in correctly."
      ]
    },
    {
      "cell_type": "code",
      "execution_count": 39,
      "metadata": {
        "jupyter": {
          "outputs_hidden": false
        },
        "colab": {
          "base_uri": "https://localhost:8080/"
        },
        "id": "pGrwp6fk9IKW",
        "outputId": "96fc8cce-6127-49e6-d748-2173f6dd7105"
      },
      "outputs": [
        {
          "output_type": "stream",
          "name": "stdout",
          "text": [
            "Titanic dataset loaded successfully! Here are the first few rows:\n",
            "   PassengerId  Pclass                                          Name     Sex  \\\n",
            "0          892       3                              Kelly, Mr. James    male   \n",
            "1          893       3              Wilkes, Mrs. James (Ellen Needs)  female   \n",
            "2          894       2                     Myles, Mr. Thomas Francis    male   \n",
            "3          895       3                              Wirz, Mr. Albert    male   \n",
            "4          896       3  Hirvonen, Mrs. Alexander (Helga E Lindqvist)  female   \n",
            "\n",
            "    Age  SibSp  Parch   Ticket     Fare Cabin Embarked  \n",
            "0  34.5      0      0   330911   7.8292   NaN        Q  \n",
            "1  47.0      1      0   363272   7.0000   NaN        S  \n",
            "2  62.0      0      0   240276   9.6875   NaN        Q  \n",
            "3  27.0      0      0   315154   8.6625   NaN        S  \n",
            "4  22.0      1      1  3101298  12.2875   NaN        S  \n"
          ]
        }
      ],
      "source": [
        "#Write your code here\n",
        "file_path_titanic = '/content/drive/MyDrive/Data/Titanic.csv'\n",
        "df_titanic = pd.read_csv(file_path_titanic)\n",
        "print(\"Titanic dataset loaded successfully! Here are the first few rows:\")\n",
        "print(df_titanic.head())"
      ]
    },
    {
      "cell_type": "markdown",
      "metadata": {
        "id": "JUnxDOtJ9IKW"
      },
      "source": [
        "Use the rename method to change the column \"Name\" to \"Passenger_Name\" and the column \"Ticket\" to \"Ticket_Num\"."
      ]
    },
    {
      "cell_type": "code",
      "execution_count": 40,
      "metadata": {
        "jupyter": {
          "outputs_hidden": false
        },
        "colab": {
          "base_uri": "https://localhost:8080/"
        },
        "id": "pZ40FyYs9IKW",
        "outputId": "1327dbca-b87b-40ca-d94f-04bf992b7d42"
      },
      "outputs": [
        {
          "output_type": "stream",
          "name": "stdout",
          "text": [
            "   invoice_number   invoice_time store_id  product_id  category_id  num_item  \\\n",
            "0    2.020000e+11  7/15/15 10:45     G816     7000300       210101       1.0   \n",
            "1    2.020000e+11  7/15/15 12:16     G816     7070884        70203       1.0   \n",
            "2    2.020000e+11  7/15/15 12:16     G816     7070884        70203       1.0   \n",
            "3    2.020000e+11  7/15/15 12:16     G816     7070891        70401       1.0   \n",
            "4    2.020000e+11  7/15/15 12:16     G816     7090363        70401       1.0   \n",
            "\n",
            "   price  \n",
            "0    2.0  \n",
            "1    2.0  \n",
            "2    2.0  \n",
            "3    6.0  \n",
            "4    6.0  \n"
          ]
        }
      ],
      "source": [
        "#Write your code here\n",
        "df_data = df_data.rename(columns={\n",
        "    \"Name\": \"Passenger_Name\",\n",
        "    \"Ticket\": \"Ticket_Num\"})\n",
        "print(df_data.head())"
      ]
    },
    {
      "cell_type": "markdown",
      "metadata": {
        "id": "bHNfKMnO9IKW"
      },
      "source": [
        "Change the index of the df_titanic to the column PasengerID."
      ]
    },
    {
      "cell_type": "code",
      "execution_count": 42,
      "metadata": {
        "jupyter": {
          "outputs_hidden": false
        },
        "scrolled": true,
        "colab": {
          "base_uri": "https://localhost:8080/"
        },
        "id": "8vOzi6h39IKW",
        "outputId": "2c8bcadc-2710-4921-fe34-7d990103d4d6"
      },
      "outputs": [
        {
          "output_type": "stream",
          "name": "stdout",
          "text": [
            "             Pclass                                          Name     Sex  \\\n",
            "PassengerId                                                                 \n",
            "892               3                              Kelly, Mr. James    male   \n",
            "893               3              Wilkes, Mrs. James (Ellen Needs)  female   \n",
            "894               2                     Myles, Mr. Thomas Francis    male   \n",
            "895               3                              Wirz, Mr. Albert    male   \n",
            "896               3  Hirvonen, Mrs. Alexander (Helga E Lindqvist)  female   \n",
            "\n",
            "              Age  SibSp  Parch   Ticket     Fare Cabin Embarked  \n",
            "PassengerId                                                       \n",
            "892          34.5      0      0   330911   7.8292   NaN        Q  \n",
            "893          47.0      1      0   363272   7.0000   NaN        S  \n",
            "894          62.0      0      0   240276   9.6875   NaN        Q  \n",
            "895          27.0      0      0   315154   8.6625   NaN        S  \n",
            "896          22.0      1      1  3101298  12.2875   NaN        S  \n"
          ]
        }
      ],
      "source": [
        "#Write your code here\n",
        "df_titanic = df_titanic.set_index(\"PassengerId\")\n",
        "print(df_titanic.head())"
      ]
    },
    {
      "cell_type": "markdown",
      "metadata": {
        "id": "WZpLHyY09IKW"
      },
      "source": [
        "Select the name of passenger 896"
      ]
    },
    {
      "cell_type": "code",
      "execution_count": 44,
      "metadata": {
        "jupyter": {
          "outputs_hidden": false
        },
        "colab": {
          "base_uri": "https://localhost:8080/"
        },
        "id": "wn3Uwn_j9IKW",
        "outputId": "dec32f52-15d6-4ce5-bfb2-2676b2fbbbf2"
      },
      "outputs": [
        {
          "output_type": "stream",
          "name": "stdout",
          "text": [
            "Passenger 896 Name: Hirvonen, Mrs. Alexander (Helga E Lindqvist)\n"
          ]
        }
      ],
      "source": [
        "#Write your code here\n",
        "passenger_name = df_titanic.loc[896, \"Name\"]\n",
        "print(\"Passenger 896 Name:\", passenger_name)"
      ]
    },
    {
      "cell_type": "markdown",
      "metadata": {
        "id": "GKiZyAAJ9IKW"
      },
      "source": [
        "Change the index back to row numbers but making sure that we don't lose the PassengerId column."
      ]
    },
    {
      "cell_type": "code",
      "execution_count": 45,
      "metadata": {
        "jupyter": {
          "outputs_hidden": false
        },
        "colab": {
          "base_uri": "https://localhost:8080/"
        },
        "id": "T4ZtrRsO9IKX",
        "outputId": "97946fa9-0db9-4687-f1c0-dc18035da941"
      },
      "outputs": [
        {
          "output_type": "stream",
          "name": "stdout",
          "text": [
            "   PassengerId  Pclass                                          Name     Sex  \\\n",
            "0          892       3                              Kelly, Mr. James    male   \n",
            "1          893       3              Wilkes, Mrs. James (Ellen Needs)  female   \n",
            "2          894       2                     Myles, Mr. Thomas Francis    male   \n",
            "3          895       3                              Wirz, Mr. Albert    male   \n",
            "4          896       3  Hirvonen, Mrs. Alexander (Helga E Lindqvist)  female   \n",
            "\n",
            "    Age  SibSp  Parch   Ticket     Fare Cabin Embarked  \n",
            "0  34.5      0      0   330911   7.8292   NaN        Q  \n",
            "1  47.0      1      0   363272   7.0000   NaN        S  \n",
            "2  62.0      0      0   240276   9.6875   NaN        Q  \n",
            "3  27.0      0      0   315154   8.6625   NaN        S  \n",
            "4  22.0      1      1  3101298  12.2875   NaN        S  \n"
          ]
        }
      ],
      "source": [
        "#Write your code here\n",
        "df_titanic = df_titanic.reset_index()\n",
        "print(df_titanic.head())"
      ]
    },
    {
      "cell_type": "markdown",
      "metadata": {
        "id": "G2JUEsxZ9IKX"
      },
      "source": [
        "How many missing entries are there in the Age column? Use the isnull() method and recall than Booleans are exactly like 1s (True) and 0s (False)."
      ]
    },
    {
      "cell_type": "code",
      "execution_count": 46,
      "metadata": {
        "jupyter": {
          "outputs_hidden": false
        },
        "colab": {
          "base_uri": "https://localhost:8080/"
        },
        "id": "34iA4NWe9IKX",
        "outputId": "4a45837c-cb61-47e9-d959-bea2a56fd5e8"
      },
      "outputs": [
        {
          "output_type": "stream",
          "name": "stdout",
          "text": [
            "Number of missing entries in Age column: 86\n"
          ]
        }
      ],
      "source": [
        "#Write you code here\n",
        "missing_age = df_titanic[\"Age\"].isnull().sum()\n",
        "print(\"Number of missing entries in Age column:\", missing_age)"
      ]
    },
    {
      "cell_type": "markdown",
      "metadata": {
        "id": "WOI-biQL9IKX"
      },
      "source": [
        "Compute the avg age of passengers ignoring the missing data."
      ]
    },
    {
      "cell_type": "code",
      "execution_count": 47,
      "metadata": {
        "jupyter": {
          "outputs_hidden": false
        },
        "colab": {
          "base_uri": "https://localhost:8080/"
        },
        "id": "TYhnxNoI9IKX",
        "outputId": "041ada6f-c48e-49fb-a6d0-2f269dfb8213"
      },
      "outputs": [
        {
          "output_type": "stream",
          "name": "stdout",
          "text": [
            "Average Age of Passengers: 30.272590361445783\n"
          ]
        }
      ],
      "source": [
        "#Write your code here\n",
        "avg_age = df_titanic[\"Age\"].mean()\n",
        "print(\"Average Age of Passengers:\", avg_age)"
      ]
    },
    {
      "cell_type": "markdown",
      "metadata": {
        "id": "aZy4YI9P9IKX"
      },
      "source": [
        "Using the fillna() method replace the missing values in the Age column with the mean."
      ]
    },
    {
      "cell_type": "code",
      "execution_count": 48,
      "metadata": {
        "jupyter": {
          "outputs_hidden": false
        },
        "colab": {
          "base_uri": "https://localhost:8080/"
        },
        "id": "zbjCkYuZ9IKX",
        "outputId": "76c343f6-623a-4b7b-d3d6-8afb7c6e0185"
      },
      "outputs": [
        {
          "output_type": "stream",
          "name": "stdout",
          "text": [
            "0    34.5\n",
            "1    47.0\n",
            "2    62.0\n",
            "3    27.0\n",
            "4    22.0\n",
            "5    14.0\n",
            "6    30.0\n",
            "7    26.0\n",
            "8    18.0\n",
            "9    21.0\n",
            "Name: Age, dtype: float64\n"
          ]
        }
      ],
      "source": [
        "#Write your code here\n",
        "mean_age = df_titanic[\"Age\"].mean()\n",
        "df_titanic[\"Age\"] = df_titanic[\"Age\"].fillna(mean_age)\n",
        "print(df_titanic[\"Age\"].head(10))"
      ]
    },
    {
      "cell_type": "markdown",
      "metadata": {
        "id": "-OZIXM129IKY"
      },
      "source": [
        "What is the average age of the 5 oldest passengers? The reset_index method will be helpful here."
      ]
    },
    {
      "cell_type": "code",
      "execution_count": 49,
      "metadata": {
        "jupyter": {
          "outputs_hidden": false
        },
        "colab": {
          "base_uri": "https://localhost:8080/"
        },
        "id": "4p9r9A_O9IKY",
        "outputId": "236f2c60-b956-4e60-ac27-f81ead4ba03c"
      },
      "outputs": [
        {
          "output_type": "stream",
          "name": "stdout",
          "text": [
            "Average age of 5 oldest passengers: 67.0\n"
          ]
        }
      ],
      "source": [
        "#Write your code here\n",
        "oldest_passengers = df_titanic.sort_values(by=\"Age\", ascending=False).reset_index()\n",
        "top5_oldest = oldest_passengers.head(5)\n",
        "avg_age_oldest5 = top5_oldest[\"Age\"].mean()\n",
        "print(\"Average age of 5 oldest passengers:\", avg_age_oldest5)"
      ]
    }
  ],
  "metadata": {
    "kernelspec": {
      "display_name": "Python [conda env:base] *",
      "language": "python",
      "name": "conda-base-py"
    },
    "language_info": {
      "codemirror_mode": {
        "name": "ipython",
        "version": 3
      },
      "file_extension": ".py",
      "mimetype": "text/x-python",
      "name": "python",
      "nbconvert_exporter": "python",
      "pygments_lexer": "ipython3",
      "version": "3.12.7"
    },
    "toc": {
      "nav_menu": {
        "height": "48px",
        "width": "252px"
      },
      "number_sections": true,
      "sideBar": true,
      "skip_h1_title": false,
      "toc_cell": false,
      "toc_position": {},
      "toc_section_display": "block",
      "toc_window_display": false
    },
    "colab": {
      "provenance": [],
      "include_colab_link": true
    }
  },
  "nbformat": 4,
  "nbformat_minor": 0
}